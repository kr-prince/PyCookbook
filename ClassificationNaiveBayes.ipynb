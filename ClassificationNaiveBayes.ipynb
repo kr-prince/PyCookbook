{
 "cells": [
  {
   "cell_type": "code",
   "execution_count": 41,
   "metadata": {},
   "outputs": [],
   "source": [
    "# import the libraries\n",
    "import csv as csv\n",
    "import numpy as np\n",
    "import pandas as pd\n",
    "import math\n",
    "import operator"
   ]
  },
  {
   "cell_type": "code",
   "execution_count": 42,
   "metadata": {},
   "outputs": [],
   "source": [
    "#reading the csv file\n",
    "trainDataSet = pd.read_csv(\"Pima_Indian_Patents_train.csv\", delimiter=',', header=None)\n",
    "testDataSet = pd.read_csv(\"Pima_Indian_Patents_test.csv\", delimiter=',', header=None)"
   ]
  },
  {
   "cell_type": "code",
   "execution_count": 43,
   "metadata": {},
   "outputs": [
    {
     "name": "stdout",
     "output_type": "stream",
     "text": [
      "      0    1   2   3    4     5      6   7  8\n",
      "0     1  108  88  19    0  27.1  0.400  24  0\n",
      "1     6   96   0   0    0  23.7  0.190  28  0\n",
      "2     1  124  74  36    0  27.8  0.100  30  0\n",
      "3     7  150  78  29  126  35.2  0.692  54  1\n",
      "4     4  183   0   0    0  28.4  0.212  36  1\n",
      "5     1  124  60  32    0  35.8  0.514  21  0\n",
      "6     1  181  78  42  293  40.0  1.258  22  1\n",
      "7     1   92  62  25   41  19.5  0.482  25  0\n",
      "8     0  152  82  39  272  41.5  0.270  27  0\n",
      "9     1  111  62  13  182  24.0  0.138  23  0\n",
      "10    3  106  54  21  158  30.9  0.292  24  0\n",
      "11    3  174  58  22  194  32.9  0.593  36  1\n",
      "12    7  168  88  42  321  38.2  0.787  40  1\n",
      "13    6  105  80  28    0  32.5  0.878  26  0\n",
      "14   11  138  74  26  144  36.1  0.557  50  1\n",
      "15    3  106  72   0    0  25.8  0.207  27  0\n",
      "16    6  117  96   0    0  28.7  0.157  30  0\n",
      "17    2   68  62  13   15  20.1  0.257  23  0\n",
      "18    9  112  82  24    0  28.2  1.282  50  1\n",
      "19    0  119   0   0    0  32.4  0.141  24  1\n",
      "20    2  112  86  42  160  38.4  0.246  28  0\n",
      "21    2   92  76  20    0  24.2  1.698  28  0\n",
      "22    6  183  94   0    0  40.8  1.461  45  0\n",
      "23    0   94  70  27  115  43.5  0.347  21  0\n",
      "24    2  108  64   0    0  30.8  0.158  21  0\n",
      "25    4   90  88  47   54  37.7  0.362  29  0\n",
      "26    0  125  68   0    0  24.7  0.206  21  0\n",
      "27    0  132  78   0    0  32.4  0.393  21  0\n",
      "28    5  128  80   0    0  34.6  0.144  45  0\n",
      "29    4   94  65  22    0  24.7  0.148  21  0\n",
      "..   ..  ...  ..  ..  ...   ...    ...  .. ..\n",
      "138   2   99  60  17  160  36.6  0.453  21  0\n",
      "139   1  102  74   0    0  39.5  0.293  42  1\n",
      "140  11  120  80  37  150  42.3  0.785  48  1\n",
      "141   3  102  44  20   94  30.8  0.400  26  0\n",
      "142   1  109  58  18  116  28.5  0.219  22  0\n",
      "143   9  140  94   0    0  32.7  0.734  45  1\n",
      "144  13  153  88  37  140  40.6  1.174  39  0\n",
      "145  12  100  84  33  105  30.0  0.488  46  0\n",
      "146   1  147  94  41    0  49.3  0.358  27  1\n",
      "147   1   81  74  41   57  46.3  1.096  32  0\n",
      "148   3  187  70  22  200  36.4  0.408  36  1\n",
      "149   6  162  62   0    0  24.3  0.178  50  1\n",
      "150   4  136  70   0    0  31.2  1.182  22  1\n",
      "151   1  121  78  39   74  39.0  0.261  28  0\n",
      "152   3  108  62  24    0  26.0  0.223  25  0\n",
      "153   0  181  88  44  510  43.3  0.222  26  1\n",
      "154   8  154  78  32    0  32.4  0.443  45  1\n",
      "155   1  128  88  39  110  36.5  1.057  37  1\n",
      "156   7  137  90  41    0  32.0  0.391  39  0\n",
      "157   0  123  72   0    0  36.3  0.258  52  1\n",
      "158   1  106  76   0    0  37.5  0.197  26  0\n",
      "159   6  190  92   0    0  35.5  0.278  66  1\n",
      "160   2   88  58  26   16  28.4  0.766  22  0\n",
      "161   9  170  74  31    0  44.0  0.403  43  1\n",
      "162   9   89  62   0    0  22.5  0.142  33  0\n",
      "163  10  101  76  48  180  32.9  0.171  63  0\n",
      "164   2  122  70  27    0  36.8  0.340  27  0\n",
      "165   5  121  72  23  112  26.2  0.245  30  0\n",
      "166   1  126  60   0    0  30.1  0.349  47  1\n",
      "167   1   93  70  31    0  30.4  0.315  23  0\n",
      "\n",
      "[168 rows x 9 columns]\n"
     ]
    }
   ],
   "source": [
    "print(testDataSet)"
   ]
  },
  {
   "cell_type": "code",
   "execution_count": 44,
   "metadata": {},
   "outputs": [],
   "source": [
    "# Replace the class labels with index values \n",
    "class_labels = list(trainDataSet.iloc[:,-1].unique())\n",
    "# trainDataSet.iloc[:,-1] = trainDataSet.iloc[:,-1].replace(to_replace=class_labels, \\\n",
    "#                                                           value=list(range(len(class_labels))))\n"
   ]
  },
  {
   "cell_type": "code",
   "execution_count": 45,
   "metadata": {},
   "outputs": [],
   "source": [
    "# Separate the data based on classes\n",
    "trainDataSetByClass = {}\n",
    "for label in class_labels:\n",
    "    trainDataSetByClass[label] = trainDataSet.loc[trainDataSet.iloc[:,-1] == label]\n",
    "    trainDataSetByClass[label] = trainDataSetByClass[label].iloc[:, :-1]"
   ]
  },
  {
   "cell_type": "code",
   "execution_count": 46,
   "metadata": {},
   "outputs": [
    {
     "name": "stdout",
     "output_type": "stream",
     "text": [
      "1\n",
      "0\n"
     ]
    }
   ],
   "source": [
    "for i in trainDataSetByClass:\n",
    "    print(i)"
   ]
  },
  {
   "cell_type": "code",
   "execution_count": 48,
   "metadata": {},
   "outputs": [],
   "source": [
    "# Summarize classwise dataSet by finding mean and standard deviation\n",
    "dataSetSummaryByClass = {}\n",
    "for label in class_labels:\n",
    "    dataSetSummaryByClass[str(label)+'-mean'] = trainDataSetByClass[label].mean(axis=0)\n",
    "    dataSetSummaryByClass[str(label)+'-std'] = trainDataSetByClass[label].std(axis=0)\n",
    "# print(dataSetSummaryByClass['Iris-setosa-mean'])\n",
    "# print(dataSetSummaryByClass['Iris-setosa-std'])"
   ]
  },
  {
   "cell_type": "code",
   "execution_count": 49,
   "metadata": {},
   "outputs": [],
   "source": [
    "def calculateProbability(x, mean, stdev):\n",
    "    # This is to do away from the error arising if stdev is becoming 0\n",
    "    if stdev == 0.0:\n",
    "        stdev = 1.0e-15\n",
    "    exponent = math.exp(-(math.pow(x-mean,2)/(2*math.pow(stdev,2))))\n",
    "    return (1 / (math.sqrt(2*math.pi) * stdev)) * exponent"
   ]
  },
  {
   "cell_type": "code",
   "execution_count": 50,
   "metadata": {},
   "outputs": [
    {
     "name": "stdout",
     "output_type": "stream",
     "text": [
      "Prediction Accuracy :  77.38095238095238\n"
     ]
    }
   ],
   "source": [
    "# Start predicting based on the dataSetSummaryByClass\n",
    "accuracy=0\n",
    "for index, data in testDataSet.iterrows():\n",
    "#     print(len(data.values))\n",
    "    probabilities = { }\n",
    "    for class_ in class_labels:\n",
    "        probabilities[class_] = 1\n",
    "        for i in range(len(data.values)-1):\n",
    "            mean = dataSetSummaryByClass[str(class_)+'-mean'].values[i]\n",
    "            stDev = dataSetSummaryByClass[str(class_)+'-std'].values[i]\n",
    "            X = data.values[i]\n",
    "#             print(mean, std, X)\n",
    "            result = calculateProbability(X, mean, stDev)\n",
    "#             if result > 1:\n",
    "#                 print(\"error..................\", result)\n",
    "            probabilities[class_] *= result\n",
    "    bestlabel = max(probabilities, key=probabilities.get)\n",
    "    bestProb = probabilities[bestlabel]\n",
    "    \n",
    "    if(bestlabel == data.values[-1]):\n",
    "        accuracy += 1\n",
    "\n",
    "print(\"Prediction Accuracy : \", (accuracy * 100)/(testDataSet.shape[0]) )"
   ]
  },
  {
   "cell_type": "code",
   "execution_count": null,
   "metadata": {},
   "outputs": [],
   "source": []
  }
 ],
 "metadata": {
  "kernelspec": {
   "display_name": "Python 3",
   "language": "python",
   "name": "python3"
  },
  "language_info": {
   "codemirror_mode": {
    "name": "ipython",
    "version": 3
   },
   "file_extension": ".py",
   "mimetype": "text/x-python",
   "name": "python",
   "nbconvert_exporter": "python",
   "pygments_lexer": "ipython3",
   "version": "3.6.6"
  }
 },
 "nbformat": 4,
 "nbformat_minor": 2
}
